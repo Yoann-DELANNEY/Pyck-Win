{
 "cells": [
  {
   "cell_type": "code",
   "execution_count": 9,
   "metadata": {},
   "outputs": [],
   "source": [
    "# Test ANOVA de relation entre 2 variables (1 variable quantitative et 1 variable qualitative)\n",
    "\n",
    "def anova_test(df,var1,var2):\n",
    "    \"\"\"\n",
    "    Effectue le test statistique ANOVA (entre une variable qualitative et une variable quantitatives) avec un\n",
    "    seuil à 5% et renvoie la p-value.\n",
    "    \n",
    "    df : DataFrame de données\n",
    "    var1, var2 : strings avec le nom des variables/colonnes du DataFrame df sur lesquelles effectuer le test.\n",
    "    \n",
    "    \"\"\"\n",
    "    import statsmodels.api\n",
    "    \n",
    "    result=statsmodels.formula.api.ols(var1 + ' ~ ' + var2,data=df).fit()\n",
    "    table=statsmodels.api.stats.anova_lm(result)\n",
    "    pvalue=table['PR(>F)'][0]\n",
    "    \n",
    "    if pvalue<0.05:\n",
    "        \n",
    "        res=\"\\nNous rejetons l'hypothèse que les vaiables soient indépendantes.\"\n",
    "        \n",
    "    else:\n",
    "        \n",
    "        res=\"\\nNous ne rejetons pas l'hypothèse que ces deux variables soient indépendantes.\"\n",
    "        \n",
    "    return pvalue, print('P-value :',pvalue,res)\n"
   ]
  },
  {
   "cell_type": "code",
   "execution_count": 10,
   "metadata": {},
   "outputs": [],
   "source": [
    "# Test Pearson de relation entre 2 variables quantitatives\n",
    "\n",
    "def pearson_test(df, var1, var2):\n",
    "    \"\"\"\n",
    "    Effectue le test statistique de Pearson (entre 2 variables quantitatives) avec un\n",
    "    seuil à 5% et renvoie la p-value.\n",
    "    \n",
    "    df : DataFrame de données\n",
    "    var1, var2 : strings avec le nom des variables/colonnes du DataFrame df sur lesquelles effectuer le test.\n",
    "    \n",
    "    \"\"\"\n",
    "    from scipy.stats import pearsonr\n",
    "        \n",
    "    prson=pearsonr(df[var1],df[var2])\n",
    "    table = pd.DataFrame(prson,index=['pearson_coef','p_value'], columns=['decision'])\n",
    "    pvalue=table['decision']['p_value']\n",
    "        \n",
    "    if pvalue<0.05:\n",
    "        \n",
    "        res=\"\\nNous rejetons l'hypothèse que les vaiables soient indépendantes.\"\n",
    "        \n",
    "    else:\n",
    "            \n",
    "        res=\"\\nNous ne rejetons pas l'hypothèse que ces deux variables soient indépendantes.\"\n",
    "        \n",
    "    return pvalue, print('P-value :',pvalue,res)\n",
    "        \n"
   ]
  }
 ],
 "metadata": {
  "kernelspec": {
   "display_name": "Python 3",
   "language": "python",
   "name": "python3"
  },
  "language_info": {
   "codemirror_mode": {
    "name": "ipython",
    "version": 3
   },
   "file_extension": ".py",
   "mimetype": "text/x-python",
   "name": "python",
   "nbconvert_exporter": "python",
   "pygments_lexer": "ipython3",
   "version": "3.7.4"
  }
 },
 "nbformat": 4,
 "nbformat_minor": 2
}
